{
 "cells": [
  {
   "cell_type": "markdown",
   "metadata": {},
   "source": [
    "# Descriptive Analytics of the Data Used"
   ]
  },
  {
   "cell_type": "markdown",
   "metadata": {},
   "source": [
    "The data selected for the purpose of this project is data related to Canada's monthly economic performance from January 2008 to December 2019. The data selected lists dollar values pegged to the value of the Canadian dollar in 2012. The data used for this project is a combination of a variety of different data all from the Statistics Canada website and is easily and readily availble.\n",
    "\n",
    "The following data sets were used:\n",
    "\n",
    "1. [Gross domestic product (GDP) at basic prices, by industry](https://www150.statcan.gc.ca/t1/tbl1/en/tv.action?pid=3610043401)\n",
    "\n",
    "2. [Electric power generation, monthly receipts, deliveries and availability](https://www150.statcan.gc.ca/t1/tbl1/en/tv.action?pid=2510001601)\n",
    "\n",
    "3. [Wages, salaries and employers' social contributions (x 1,000)](https://www150.statcan.gc.ca/t1/tbl1/en/tv.action?pid=3610020501)\n",
    "\n",
    "4. [International transactions in securities, portfolio transactions in Canadian and foreign securities, by type of instrument and issuer](https://www150.statcan.gc.ca/t1/tbl1/en/tv.action?pid=3610002801&pickMembers%5B0%5D=3.3)\n",
    "\n",
    "5. [Capital markets activities, gross new issues, retirements and net new issues, par value, Bank of Canada](https://www150.statcan.gc.ca/t1/tbl1/en/tv.action?pid=1010000301)\n",
    "\n",
    "\n",
    "In order to be able to use the data, the data needs to be cleaned and aggregated. Several of the more granular datapoints are either missing or are reported with a low degree of confidence. In order to maintain a clean dataset only the \"macro\" indicators will be used. For each of the following datasets, they are as follows:\n",
    "\n",
    "1. Gross domestic product (GDP) at basic prices, by industry\n",
    "    - Aggregate GDP from all industries renamed as \"GDP\"\n",
    "\n",
    "\n",
    "2. Electric power generation, monthly receipts, deliveries and availability\n",
    "    - Total generation: Total generation includes nuclear, hydro, tidal, wind, solar, wave, geothermal, other non-combustible methods and combustible fuel generation.\n",
    "    - Total receipts: Nationally, this is the sum of purchased receipts and other receipts from the United States. Provincially, this is the sum of electricity received from other provinces and from the United States.\n",
    "    - Total deliveries: Nationally, this is the sum of deliveries of electricity to the United States. Provincially, this is the sum of electricity delivered to other provinces and to the United States.\n",
    "    - Total electricity available for use. (total generation plus total receipts less total deliveries).\n",
    "    \n",
    "\n",
    "3. Wages, salaries and employers' social contributions\n",
    "    - For wages, and salaries, all sub-categories are being included. This is in order to help determine if any one particular industry's economic activity as indicated through wages has any significant impact on the National GDP\n",
    "    - The structure of the Wages data is as follows:\n",
    "        - Compensation of employees\n",
    "            - Wages and salaries\n",
    "                - All goods-producing industries\n",
    "                    - Agriculture, forestry, fishing and hunting\n",
    "                    - Mining and oil and gas extraction\n",
    "                    - Manufacturing\n",
    "                    - Construction\n",
    "                    - Utilities\n",
    "                - All services-producing industries\n",
    "                    - Trade\n",
    "                    - Transportation and storage\n",
    "                    - Information and cultural industries\n",
    "                    - Finance, real estate and company management\n",
    "                    - Professional and personal services industries\n",
    "                    - Educational services\n",
    "                    - Health care and social assistance\n",
    "                    - Federal government public administration\n",
    "                    - Military\n",
    "                    - Federal government public administration excluding military\n",
    "                    - Provincial and territorial government public administration\n",
    "                    - Local government public administration\n",
    "            - Employers' social contributions\n",
    "        \n",
    "        \n",
    "\n",
    "4. Monetary value of international transactions in securities, portfolio transactions in Canadian and foreign securities\n",
    "    - Canadian securities\n",
    "    - Canadian debt securities\n",
    "    - Canadian money market instruments\n",
    "    - Canadian money market instruments, governments 2\n",
    "    - Canadian money market instruments, corporations 3\n",
    "    - Canadian bonds\n",
    "    - Canadian bonds, governments\n",
    "    - Canadian bonds, corporations\n",
    "    - Canadian equity and investment fund shares\n",
    "    - Foreign securities\n",
    "    - Foreign debt securities\n",
    "    - Foreign money market instruments\n",
    "    - Foreign bonds\n",
    "    - Foreign equity and investment fund shares\n",
    "    \n",
    "\n",
    "5. Capital markets activities, gross new issues, retirements and net new issues, par value, Bank of Canada. For each of the following categories, it includes Government of Canada, Provincial and Muncipal direct and indirect bonds, corporate bonds, common stocks and preferred stocks among other securities.\n",
    "    - Retirements\n",
    "    - Gross New Issues\n",
    "    - Net New Issues\n",
    "    \n",
    "    \n",
    " \n",
    "\n",
    "\n"
   ]
  },
  {
   "cell_type": "markdown",
   "metadata": {},
   "source": [
    "# Visualizing Data"
   ]
  },
  {
   "cell_type": "markdown",
   "metadata": {},
   "source": [
    "The in the data set all naturally possess different ranges and have their own levels of volatility. In order to be able to visually compare the data to both each other and amongst themselves, the data has all been normalized. Doing this allows us to visualize the data on the same scale and compare them. This allows us to derive insights from the data, make accurate and informed decisions as to which features, variables, or columns to continue with both predictive and prescriptive analytics."
   ]
  },
  {
   "cell_type": "markdown",
   "metadata": {},
   "source": [
    "### Histograms of Variables"
   ]
  },
  {
   "cell_type": "markdown",
   "metadata": {},
   "source": [
    "In order to better understand the distribution of each of the features, a histogram with 10 bins is being used. The histograms are used to inform us of how each variable may be constitute the overall patter over time that will be explored later.\n",
    "\n",
    "Takeaways from analyzing the histograms of all the features:\n",
    "- GDP follows looks to be near a uniform or potentially linear distribution\n",
    "<img src=\"images/hist_GDP.png\">\n",
    "- Majority of the features follow distribution that appear to be either a normal distribution or a left-skewed normal distribution. A prime example of this is the distribution under electricity generation for the Total Generation for electricity. The Total Generation of electricity follows a distribution that resembles a left-skewed normal distribution. \n",
    "<img src=\"images/hist_electricity_generation.png\">\n",
    "- Several features follow a normal distribution such as the delivery of electricity.\n",
    "<img src=\"images/hist_electricity_delivery.png\">\n",
    "- Several features such as that of the Compensation of Employees follow a somewhat uniform distribution with a large margin of change. The distribution for these seem to mirror the distribution for the GDP and could indicate that they are either correlated or could prove to be good indicators.\n",
    "<img src=\"images/hist_compensation_employee.png\">\n",
    "- Employer’s Social Contribution seems to be the only feature with a somewhat bi-modal distribution.\n",
    "<img src=\"images/hist_employer_social_contribution.png\">\n",
    "\n",
    "For a full view of each of the histograms generated and their code, refer to the Appendix for Descriptive Analytics."
   ]
  },
  {
   "cell_type": "markdown",
   "metadata": {},
   "source": [
    "### Plotting Each Variable Against GDP"
   ]
  },
  {
   "cell_type": "markdown",
   "metadata": {},
   "source": [
    "In order to better understand how each feature varies over time, the features have been mapped out over time and compared to the GDP which is intended to be the predicted variable from the model.\n",
    "\n",
    "Takeaways from analyzing the line-graphs of all the features:\n",
    "- GDP has been increasing steadily for the last decade. The recession in 2008 caused a dip in the GDP that was overcome in 2010. Since then, despite a few dips, the GDP of Canada has increased steadily until the end of last year.\n",
    "<img src=\"images/line_GDP.png\">\n",
    "- Total electricity generation seems to fluctuate by season, peaking in the December of each year and dropping in the June of each year. Total electricity generation seems to have increased in recent year by a minor amount\n",
    "<img src=\"images/line_total_electricity_generation.png\">\n",
    "- None of the records of securities transactions seem to have a relationship with the GDP. As a result none of these features will be selected for the model.\n",
    "<img src=\"images/line_securities.png\">\n",
    "- Wages and salaries seem to be positively corelated with the GDP. However, the drop in GDP doesnt show a drop in the wages, since wages have a tendency of being \"sticky\" in that they do not tend to drop over time.\n",
    "<img src=\"images/line_compensation_employee.png\">\n",
    "- Wages in manufacturing jobs seems to be related most with the GDP. Similarly the wages in information and cultural industries are also corelated strongly with GDP.\n",
    "<img src=\"images/line_wages_manufacturing.png\">\n",
    "\n",
    "\n",
    "\n",
    "For a full view of each of the plots generated and their code, refer to the Appendix for Descriptive Analytics."
   ]
  },
  {
   "cell_type": "markdown",
   "metadata": {},
   "source": [
    "# Features Selected for Model Building"
   ]
  },
  {
   "cell_type": "markdown",
   "metadata": {},
   "source": [
    "The following features have been selected for building the model:\n",
    "- Total electicity generation:\n",
    "    - Although the total electricity generation does not increase similarly to the GDP, the fluctuations in the electicity generation demonstrate a degree of seasonality for the year that might be useful in adjusting the GDP for the season.\n",
    "- Wages for the overall economy as well as wages in manufacturing, information and cultural industries are being selected.\n",
    "\n",
    "Prior to building any models, K-Means Clustering was also conducted on both the data set with all features and the dataset with the selected features"
   ]
  },
  {
   "cell_type": "markdown",
   "metadata": {},
   "source": [
    "# K Means Clustering"
   ]
  },
  {
   "cell_type": "markdown",
   "metadata": {},
   "source": [
    "First, for both the aforementioned dataframes, an elbow analysis was performed. This was dont by varying the number of clusters from 1 to 10 and plotting the errors.\n",
    "\n",
    "The chart generated from the elbow method for the data with all features is:\n",
    "<img src=\"images/elbow1.png\">\n",
    "The chart generated from the elbow method for the data with only the selected features is:\n",
    "<img src=\"images/elbow2.png\">"
   ]
  },
  {
   "cell_type": "markdown",
   "metadata": {},
   "source": [
    "Both charts are near identical. The chart from the data including all variables has a larger amount of error, however, that is to be expected given the number of extra features that it has. Both datasets have an elbow at 2 clusters, indicating that that there should ideally be two clusters. \n",
    "\n",
    "Next, the coordinates for the two different clusters were added to the dataframes of both the dataset, in order to determine what time periods the two two clusters appeared in, and whether it would be possible to distinguish two different time periods based off of the selected data.\n",
    "\n",
    "The adjusted GDP chart showing the clusters for the full data set is:\n",
    "<img src=\"images/cluster1.png\">\n",
    "The adjusted GDP chart showing the clusters for the selected features data set is:\n",
    "<img src=\"images/cluster2.png\">\n",
    "\n"
   ]
  },
  {
   "cell_type": "markdown",
   "metadata": {},
   "source": [
    "Interestingly, bith clusters seem to indicate the same thing. There seem to be two distinct perios before and after Dec '13, with a period of fluctuation between the two economic states immediately preceeding the shift.\n",
    "\n",
    "The clusters were then mapped to each of the variables and explored, however no insight could be derived from this due to the lack of knowledge about the mechanisms affecting econmies. \n",
    "\n",
    "An example of what graphs were generated and examined is shown below. The graph below shows the the different clusters determined from the k-means clustering algorithm and mapped against the GDP and the wages in the cultural and information sector over time:\n",
    "<img src=\"images/cluster3.png\">\n",
    "\n",
    "Furthermore, the number of clusters were increased and mapped to the GDP to attempt to gain insight as well, however none could be derived due to the lack of economic knowledge of the team. An example is shown below. The following graph shows the GDP broken into 10 different clusters as determined by the K-means clustering algorithm\n",
    "<img src=\"images/cluster4.png\">\n",
    "\n",
    "For more visualizations and details regarding the GDP behaviour in varying clusters or for the behaviour of all the other features for either dataset in the varying clusters, please refer to the desctiptive and predictive analytics notebooks."
   ]
  },
  {
   "cell_type": "markdown",
   "metadata": {},
   "source": [
    "# Predictive Analytics"
   ]
  },
  {
   "cell_type": "markdown",
   "metadata": {},
   "source": [
    "For each model type built, a model will be built with all of the features and a model will be built with these few selected features in order to view and determine which model could be a better predictor of the Canadian economy.\n",
    "\n",
    "In order to build the models 20% of the dataset will be set aside for testing while 80% of the data will be used for training. To compare the models Mean Squared Errors, Mean Absolute Errors and Root Mean Squared Error scores will be calculated and compared.\n",
    "\n",
    "Initially, four models were built. Two linear regression models with one using the full data set and the other using the selected data set and two K-nearest neighbor models with a k value of 5 for each of the full and selected data sets. The KNN model performed better, so in order to attempt further optimization, the KNN models were built for both the full data set and the selected data set using a k-value of 3 and a k-value of 7. The results for all of the models are tabulated below:\n",
    "<img src=\"images/score_table.png\">\n",
    "\n",
    "The model that performed the best across the board was the KNN model using the full data set with a k value of 5. The difference of each of the model's results between the predicted and actual for the model with the best score are as follows:\n",
    "<img src=\"images/winning_model.png\">\n",
    "\n",
    "The code used for building the models,scoring the models and the graphs generated in order to compare the model's performmances can be found in the predictive analytics notebook"
   ]
  },
  {
   "cell_type": "markdown",
   "metadata": {},
   "source": [
    "# Utilizing Model for Predictive Analytics"
   ]
  },
  {
   "cell_type": "markdown",
   "metadata": {},
   "source": [
    "In order to better and further understand the performance of the model, and to leverage the model to perform analytics, several of the key variables in the testing set were manipulated with in order to better understand their impact on the model as a whole.\n",
    "\n",
    "The following individial changes were made to the model:\n",
    "- Wages  -Compensation of employees was changed by both +10% and -10%\n",
    "- cap_markets-Retirements  was changed by both +10% and -10%\n",
    "- wages -Compensation of employees  was changed by both +10% and -10%\n",
    "\n",
    "Interestingly, none of these changes seemed to have a significant impact on the model's oroginal predicted score. A bar chart showing the actual values, the predicted values, the predicted values with an additional 10% and the predicted values with 10% less can be seen below for the wages - the total compensation of employees. Furthermore, these additions were also made to each column individually, with no one column or feature having a significant impact on the end result.\n",
    "<img src=\"images/bar1.png\">"
   ]
  },
  {
   "cell_type": "markdown",
   "metadata": {},
   "source": [
    "This tells us that the model is more complext than relying on any one feature, but indeed takes amalgamation of a combination of features in order to make a prediction."
   ]
  },
  {
   "cell_type": "code",
   "execution_count": null,
   "metadata": {},
   "outputs": [],
   "source": []
  }
 ],
 "metadata": {
  "kernelspec": {
   "display_name": "Python 3",
   "language": "python",
   "name": "python3"
  },
  "language_info": {
   "codemirror_mode": {
    "name": "ipython",
    "version": 3
   },
   "file_extension": ".py",
   "mimetype": "text/x-python",
   "name": "python",
   "nbconvert_exporter": "python",
   "pygments_lexer": "ipython3",
   "version": "3.7.6"
  }
 },
 "nbformat": 4,
 "nbformat_minor": 2
}
